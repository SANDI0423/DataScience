{
 "cells": [
  {
   "cell_type": "markdown",
   "id": "cdeaf4ac-8d25-4277-b05d-aea32d0a175d",
   "metadata": {},
   "source": [
    "# Data Science Tools and Ecosystem"
   ]
  },
  {
   "cell_type": "markdown",
   "id": "c02e7af5-feaf-4be3-9539-9f4079bcb4cd",
   "metadata": {},
   "source": [
    "# In this notebook, Data Science Tools and Ecosystem are summarized."
   ]
  },
  {
   "cell_type": "markdown",
   "id": "b15bcbb1-6e7e-47e3-94f1-cd901f526dc2",
   "metadata": {},
   "source": [
    "Some of the popular languages that Data Scientists use are:\n",
    "1. Python\n",
    "2. Ruby\n",
    "3. C/C++"
   ]
  },
  {
   "cell_type": "markdown",
   "id": "db0713ec-942e-459c-81d0-08ee4bab247d",
   "metadata": {},
   "source": [
    "Some of the commonly used libraries used by Data Scientists include:\n",
    "1. Numpy\n",
    "2. Pandas\n",
    "3. Scikit-learn"
   ]
  },
  {
   "cell_type": "markdown",
   "id": "738fc8fe-6d5b-44e8-be73-95e43985f4da",
   "metadata": {},
   "source": [
    "| Data Science Tools |\n",
    "| ------------------ |\n",
    "|     Jupyter        |\n",
    "|     Anaconda       |\n",
    "|     Spyder         |"
   ]
  },
  {
   "cell_type": "markdown",
   "id": "435e2aa0-51de-47e5-afb5-ec0cfae1fd04",
   "metadata": {},
   "source": [
    "### Below are a few examples of evaluating arithmetic expressions in Python"
   ]
  },
  {
   "cell_type": "code",
   "execution_count": 2,
   "id": "236082d2-e45c-44e1-9244-72843b77a7c7",
   "metadata": {
    "tags": []
   },
   "outputs": [
    {
     "data": {
      "text/plain": [
       "17"
      ]
     },
     "execution_count": 2,
     "metadata": {},
     "output_type": "execute_result"
    }
   ],
   "source": [
    "# This a simple arithmetic expression to mutiply then add integers\n",
    "(3*4)+5"
   ]
  },
  {
   "cell_type": "code",
   "execution_count": 7,
   "id": "0b69fb95-e2f2-425f-a343-5d8f581a4d59",
   "metadata": {
    "tags": []
   },
   "outputs": [
    {
     "data": {
      "text/plain": [
       "3.3333333333333335"
      ]
     },
     "execution_count": 7,
     "metadata": {},
     "output_type": "execute_result"
    }
   ],
   "source": [
    "#  This will convert 200 minutes to hours by diving by 60\n",
    "200/60"
   ]
  },
  {
   "cell_type": "markdown",
   "id": "f60a218d-67cd-4fc6-95e2-f81b76d315f9",
   "metadata": {},
   "source": [
    "__Objectives:__\n",
    "+ List the popular Data Science Tools\n",
    "+ List the popular Data Science Libraries\n",
    "+ List the popular Data Science Development Environments\n",
    "+ Markdown\n",
    "+ Arithmetic Expression"
   ]
  },
  {
   "cell_type": "markdown",
   "id": "add9466b-94ad-4be4-8447-b3a88eff91b9",
   "metadata": {},
   "source": [
    "## Author\n",
    "SANGEETHA S K"
   ]
  },
  {
   "cell_type": "code",
   "execution_count": null,
   "id": "85495b96-7270-479f-8192-2e6626c8198f",
   "metadata": {},
   "outputs": [],
   "source": []
  }
 ],
 "metadata": {
  "kernelspec": {
   "display_name": "Python",
   "language": "python",
   "name": "conda-env-python-py"
  },
  "language_info": {
   "codemirror_mode": {
    "name": "ipython",
    "version": 3
   },
   "file_extension": ".py",
   "mimetype": "text/x-python",
   "name": "python",
   "nbconvert_exporter": "python",
   "pygments_lexer": "ipython3",
   "version": "3.7.12"
  }
 },
 "nbformat": 4,
 "nbformat_minor": 5
}
